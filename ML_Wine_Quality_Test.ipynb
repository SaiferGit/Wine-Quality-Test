{
  "nbformat": 4,
  "nbformat_minor": 0,
  "metadata": {
    "colab": {
      "name": "ML - Wine Quality Test.ipynb",
      "provenance": [],
      "collapsed_sections": [
        "f0eXgyUFB86u",
        "5ycSuTjiCeai",
        "lTFWEMEIGSmp",
        "t-SjkMKxJ0Qg",
        "LQpFEN1eKgQD",
        "bKrHZXqOSJfh",
        "mgTJNn49VZ3T",
        "LXnDTHgGem3N",
        "fpckOTwLh1EC",
        "Si0XeNzTh05V",
        "DeRljTy4h0so",
        "yAFWRHuah0RF",
        "RivtaSA6my0s",
        "0rcQNdY5n2ZN",
        "VbtK49I7n9wE",
        "sWM_sL9FoQr8"
      ]
    },
    "kernelspec": {
      "name": "python3",
      "display_name": "Python 3"
    },
    "language_info": {
      "name": "python"
    }
  },
  "cells": [
    {
      "cell_type": "markdown",
      "metadata": {
        "id": "f0eXgyUFB86u"
      },
      "source": [
        "## Objective of this project"
      ]
    },
    {
      "cell_type": "markdown",
      "metadata": {
        "id": "fCiZ5GyNCIHp"
      },
      "source": [
        "1. To **experiment with different classification methods** to see which yields the **highest accuracy**.\n",
        "2. To **determine which features are the most indicative** of a good quality wine"
      ]
    },
    {
      "cell_type": "markdown",
      "metadata": {
        "id": "5ycSuTjiCeai"
      },
      "source": [
        "## Dataset Description"
      ]
    },
    {
      "cell_type": "markdown",
      "metadata": {
        "id": "el6VDxvcDy79"
      },
      "source": [
        "**From UCL Machine Learning Repo**\n",
        "- [Red Wine Dataset](https://archive.ics.uci.edu/ml/machine-learning-databases/wine-quality/winequality-red.csv)\n",
        "- [White Wine Dataset](https://archive.ics.uci.edu/ml/machine-learning-databases/wine-quality/winequality-white.csv)"
      ]
    },
    {
      "cell_type": "markdown",
      "metadata": {
        "id": "z6MpLpm_FCK8"
      },
      "source": [
        "# Red wine dataset classification"
      ]
    },
    {
      "cell_type": "markdown",
      "metadata": {
        "id": "lTFWEMEIGSmp"
      },
      "source": [
        "## Importing Libraries"
      ]
    },
    {
      "cell_type": "code",
      "metadata": {
        "id": "gy6SGdcg530N"
      },
      "source": [
        "import numpy as np                # used to create numpy arrays\n",
        "import pandas as pd               # pandas Library is used to create pandas dataframe which is very useful for data analyze and process the data\n",
        "import matplotlib.pyplot as plt   # for plots and graphs\n",
        "import seaborn as sns             # for data visualizing, making plots and graphs\n",
        "from sklearn.model_selection import train_test_split, cross_val_score # used to split data into train and test. we won't split manually, rather use this library function\n",
        "from sklearn.metrics import accuracy_score # to evaluate our model, how well our model is performing\n",
        "import plotly.express as px\n",
        "from sklearn.metrics import classification_report"
      ],
      "execution_count": 174,
      "outputs": []
    },
    {
      "cell_type": "markdown",
      "metadata": {
        "id": "VU1hOak3K9TG"
      },
      "source": [
        "## Loading Dataset From Drive"
      ]
    },
    {
      "cell_type": "markdown",
      "metadata": {
        "id": "ndTtcXCNLD61"
      },
      "source": [
        "### Adding google Drive"
      ]
    },
    {
      "cell_type": "code",
      "metadata": {
        "colab": {
          "base_uri": "https://localhost:8080/"
        },
        "id": "Ady4DjcRLHJF",
        "outputId": "997a5118-367a-4fba-b2ef-dedf9e736ecd"
      },
      "source": [
        "from google.colab import drive\n",
        "drive.mount('/content/drive')"
      ],
      "execution_count": 175,
      "outputs": [
        {
          "output_type": "stream",
          "text": [
            "Drive already mounted at /content/drive; to attempt to forcibly remount, call drive.mount(\"/content/drive\", force_remount=True).\n"
          ],
          "name": "stdout"
        }
      ]
    },
    {
      "cell_type": "markdown",
      "metadata": {
        "id": "XiwdG6udLavH"
      },
      "source": [
        "### Data Collection"
      ]
    },
    {
      "cell_type": "code",
      "metadata": {
        "id": "g6qom9W3LJaS"
      },
      "source": [
        "# loading dataset to a Pandas Dataframe\n",
        "redwineDF = pd.read_csv('/content/drive/MyDrive/Machine Learning/DataSet/winequality-red.csv', delimiter= ';')"
      ],
      "execution_count": 176,
      "outputs": []
    },
    {
      "cell_type": "code",
      "metadata": {
        "colab": {
          "base_uri": "https://localhost:8080/"
        },
        "id": "FmFxrqf0LmzC",
        "outputId": "ffe8b97c-fa56-4ba6-8cda-41c79a832662"
      },
      "source": [
        "# number of rows and columns\n",
        "print(\"(Rows, columns): \" + str(redwineDF.shape)) # dataframe.shape"
      ],
      "execution_count": 177,
      "outputs": [
        {
          "output_type": "stream",
          "text": [
            "(Rows, columns): (1599, 12)\n"
          ],
          "name": "stdout"
        }
      ]
    },
    {
      "cell_type": "code",
      "metadata": {
        "id": "Iuw6SR0vMPaY",
        "colab": {
          "base_uri": "https://localhost:8080/",
          "height": 204
        },
        "outputId": "9e1395e3-bbfa-48f9-81e9-34a3b35ef762"
      },
      "source": [
        "# printing first 5 rows of the dataset\n",
        "redwineDF.head(5)"
      ],
      "execution_count": 178,
      "outputs": [
        {
          "output_type": "execute_result",
          "data": {
            "text/html": [
              "<div>\n",
              "<style scoped>\n",
              "    .dataframe tbody tr th:only-of-type {\n",
              "        vertical-align: middle;\n",
              "    }\n",
              "\n",
              "    .dataframe tbody tr th {\n",
              "        vertical-align: top;\n",
              "    }\n",
              "\n",
              "    .dataframe thead th {\n",
              "        text-align: right;\n",
              "    }\n",
              "</style>\n",
              "<table border=\"1\" class=\"dataframe\">\n",
              "  <thead>\n",
              "    <tr style=\"text-align: right;\">\n",
              "      <th></th>\n",
              "      <th>fixed acidity</th>\n",
              "      <th>volatile acidity</th>\n",
              "      <th>citric acid</th>\n",
              "      <th>residual sugar</th>\n",
              "      <th>chlorides</th>\n",
              "      <th>free sulfur dioxide</th>\n",
              "      <th>total sulfur dioxide</th>\n",
              "      <th>density</th>\n",
              "      <th>pH</th>\n",
              "      <th>sulphates</th>\n",
              "      <th>alcohol</th>\n",
              "      <th>quality</th>\n",
              "    </tr>\n",
              "  </thead>\n",
              "  <tbody>\n",
              "    <tr>\n",
              "      <th>0</th>\n",
              "      <td>7.4</td>\n",
              "      <td>0.70</td>\n",
              "      <td>0.00</td>\n",
              "      <td>1.9</td>\n",
              "      <td>0.076</td>\n",
              "      <td>11.0</td>\n",
              "      <td>34.0</td>\n",
              "      <td>0.9978</td>\n",
              "      <td>3.51</td>\n",
              "      <td>0.56</td>\n",
              "      <td>9.4</td>\n",
              "      <td>5</td>\n",
              "    </tr>\n",
              "    <tr>\n",
              "      <th>1</th>\n",
              "      <td>7.8</td>\n",
              "      <td>0.88</td>\n",
              "      <td>0.00</td>\n",
              "      <td>2.6</td>\n",
              "      <td>0.098</td>\n",
              "      <td>25.0</td>\n",
              "      <td>67.0</td>\n",
              "      <td>0.9968</td>\n",
              "      <td>3.20</td>\n",
              "      <td>0.68</td>\n",
              "      <td>9.8</td>\n",
              "      <td>5</td>\n",
              "    </tr>\n",
              "    <tr>\n",
              "      <th>2</th>\n",
              "      <td>7.8</td>\n",
              "      <td>0.76</td>\n",
              "      <td>0.04</td>\n",
              "      <td>2.3</td>\n",
              "      <td>0.092</td>\n",
              "      <td>15.0</td>\n",
              "      <td>54.0</td>\n",
              "      <td>0.9970</td>\n",
              "      <td>3.26</td>\n",
              "      <td>0.65</td>\n",
              "      <td>9.8</td>\n",
              "      <td>5</td>\n",
              "    </tr>\n",
              "    <tr>\n",
              "      <th>3</th>\n",
              "      <td>11.2</td>\n",
              "      <td>0.28</td>\n",
              "      <td>0.56</td>\n",
              "      <td>1.9</td>\n",
              "      <td>0.075</td>\n",
              "      <td>17.0</td>\n",
              "      <td>60.0</td>\n",
              "      <td>0.9980</td>\n",
              "      <td>3.16</td>\n",
              "      <td>0.58</td>\n",
              "      <td>9.8</td>\n",
              "      <td>6</td>\n",
              "    </tr>\n",
              "    <tr>\n",
              "      <th>4</th>\n",
              "      <td>7.4</td>\n",
              "      <td>0.70</td>\n",
              "      <td>0.00</td>\n",
              "      <td>1.9</td>\n",
              "      <td>0.076</td>\n",
              "      <td>11.0</td>\n",
              "      <td>34.0</td>\n",
              "      <td>0.9978</td>\n",
              "      <td>3.51</td>\n",
              "      <td>0.56</td>\n",
              "      <td>9.4</td>\n",
              "      <td>5</td>\n",
              "    </tr>\n",
              "  </tbody>\n",
              "</table>\n",
              "</div>"
            ],
            "text/plain": [
              "   fixed acidity  volatile acidity  citric acid  ...  sulphates  alcohol  quality\n",
              "0            7.4              0.70         0.00  ...       0.56      9.4        5\n",
              "1            7.8              0.88         0.00  ...       0.68      9.8        5\n",
              "2            7.8              0.76         0.04  ...       0.65      9.8        5\n",
              "3           11.2              0.28         0.56  ...       0.58      9.8        6\n",
              "4            7.4              0.70         0.00  ...       0.56      9.4        5\n",
              "\n",
              "[5 rows x 12 columns]"
            ]
          },
          "metadata": {
            "tags": []
          },
          "execution_count": 178
        }
      ]
    },
    {
      "cell_type": "markdown",
      "metadata": {
        "id": "JxgJxQ2QOJoV"
      },
      "source": [
        "So, we have total 12 column and 12th column is the label which defines quality of the wine. We will use other 11 columns to predict the quality of the wine."
      ]
    },
    {
      "cell_type": "code",
      "metadata": {
        "colab": {
          "base_uri": "https://localhost:8080/"
        },
        "id": "Rrndd4fKN2qL",
        "outputId": "feb6ede2-e638-415f-8401-77e94c819eb8"
      },
      "source": [
        "# Checking for missing values\n",
        "redwineDF.isnull().sum() # isnull return there are any missing values in columns and sum returns total no of missing values in each column"
      ],
      "execution_count": 179,
      "outputs": [
        {
          "output_type": "execute_result",
          "data": {
            "text/plain": [
              "fixed acidity           0\n",
              "volatile acidity        0\n",
              "citric acid             0\n",
              "residual sugar          0\n",
              "chlorides               0\n",
              "free sulfur dioxide     0\n",
              "total sulfur dioxide    0\n",
              "density                 0\n",
              "pH                      0\n",
              "sulphates               0\n",
              "alcohol                 0\n",
              "quality                 0\n",
              "dtype: int64"
            ]
          },
          "metadata": {
            "tags": []
          },
          "execution_count": 179
        }
      ]
    },
    {
      "cell_type": "markdown",
      "metadata": {
        "id": "LqIPHoixO18m"
      },
      "source": [
        "So, we don't have any missing values in our dataset. If it was, we can\n",
        "- mean the whole column values to fillup that cell.\n",
        "- or drop that row"
      ]
    },
    {
      "cell_type": "markdown",
      "metadata": {
        "id": "vGizBQnjPaFc"
      },
      "source": [
        "## Data Analysis and Visualization"
      ]
    },
    {
      "cell_type": "markdown",
      "metadata": {
        "id": "VT9Iyh7kPiKc"
      },
      "source": [
        "Let's first get the statistical measures from dataset"
      ]
    },
    {
      "cell_type": "code",
      "metadata": {
        "colab": {
          "base_uri": "https://localhost:8080/",
          "height": 297
        },
        "id": "tvmfhGwVPeZx",
        "outputId": "50d89ba8-5bf7-47ee-edbe-abcfb398a692"
      },
      "source": [
        "redwineDF.describe() # f"
      ],
      "execution_count": 180,
      "outputs": [
        {
          "output_type": "execute_result",
          "data": {
            "text/html": [
              "<div>\n",
              "<style scoped>\n",
              "    .dataframe tbody tr th:only-of-type {\n",
              "        vertical-align: middle;\n",
              "    }\n",
              "\n",
              "    .dataframe tbody tr th {\n",
              "        vertical-align: top;\n",
              "    }\n",
              "\n",
              "    .dataframe thead th {\n",
              "        text-align: right;\n",
              "    }\n",
              "</style>\n",
              "<table border=\"1\" class=\"dataframe\">\n",
              "  <thead>\n",
              "    <tr style=\"text-align: right;\">\n",
              "      <th></th>\n",
              "      <th>fixed acidity</th>\n",
              "      <th>volatile acidity</th>\n",
              "      <th>citric acid</th>\n",
              "      <th>residual sugar</th>\n",
              "      <th>chlorides</th>\n",
              "      <th>free sulfur dioxide</th>\n",
              "      <th>total sulfur dioxide</th>\n",
              "      <th>density</th>\n",
              "      <th>pH</th>\n",
              "      <th>sulphates</th>\n",
              "      <th>alcohol</th>\n",
              "      <th>quality</th>\n",
              "    </tr>\n",
              "  </thead>\n",
              "  <tbody>\n",
              "    <tr>\n",
              "      <th>count</th>\n",
              "      <td>1599.000000</td>\n",
              "      <td>1599.000000</td>\n",
              "      <td>1599.000000</td>\n",
              "      <td>1599.000000</td>\n",
              "      <td>1599.000000</td>\n",
              "      <td>1599.000000</td>\n",
              "      <td>1599.000000</td>\n",
              "      <td>1599.000000</td>\n",
              "      <td>1599.000000</td>\n",
              "      <td>1599.000000</td>\n",
              "      <td>1599.000000</td>\n",
              "      <td>1599.000000</td>\n",
              "    </tr>\n",
              "    <tr>\n",
              "      <th>mean</th>\n",
              "      <td>8.319637</td>\n",
              "      <td>0.527821</td>\n",
              "      <td>0.270976</td>\n",
              "      <td>2.538806</td>\n",
              "      <td>0.087467</td>\n",
              "      <td>15.874922</td>\n",
              "      <td>46.467792</td>\n",
              "      <td>0.996747</td>\n",
              "      <td>3.311113</td>\n",
              "      <td>0.658149</td>\n",
              "      <td>10.422983</td>\n",
              "      <td>5.636023</td>\n",
              "    </tr>\n",
              "    <tr>\n",
              "      <th>std</th>\n",
              "      <td>1.741096</td>\n",
              "      <td>0.179060</td>\n",
              "      <td>0.194801</td>\n",
              "      <td>1.409928</td>\n",
              "      <td>0.047065</td>\n",
              "      <td>10.460157</td>\n",
              "      <td>32.895324</td>\n",
              "      <td>0.001887</td>\n",
              "      <td>0.154386</td>\n",
              "      <td>0.169507</td>\n",
              "      <td>1.065668</td>\n",
              "      <td>0.807569</td>\n",
              "    </tr>\n",
              "    <tr>\n",
              "      <th>min</th>\n",
              "      <td>4.600000</td>\n",
              "      <td>0.120000</td>\n",
              "      <td>0.000000</td>\n",
              "      <td>0.900000</td>\n",
              "      <td>0.012000</td>\n",
              "      <td>1.000000</td>\n",
              "      <td>6.000000</td>\n",
              "      <td>0.990070</td>\n",
              "      <td>2.740000</td>\n",
              "      <td>0.330000</td>\n",
              "      <td>8.400000</td>\n",
              "      <td>3.000000</td>\n",
              "    </tr>\n",
              "    <tr>\n",
              "      <th>25%</th>\n",
              "      <td>7.100000</td>\n",
              "      <td>0.390000</td>\n",
              "      <td>0.090000</td>\n",
              "      <td>1.900000</td>\n",
              "      <td>0.070000</td>\n",
              "      <td>7.000000</td>\n",
              "      <td>22.000000</td>\n",
              "      <td>0.995600</td>\n",
              "      <td>3.210000</td>\n",
              "      <td>0.550000</td>\n",
              "      <td>9.500000</td>\n",
              "      <td>5.000000</td>\n",
              "    </tr>\n",
              "    <tr>\n",
              "      <th>50%</th>\n",
              "      <td>7.900000</td>\n",
              "      <td>0.520000</td>\n",
              "      <td>0.260000</td>\n",
              "      <td>2.200000</td>\n",
              "      <td>0.079000</td>\n",
              "      <td>14.000000</td>\n",
              "      <td>38.000000</td>\n",
              "      <td>0.996750</td>\n",
              "      <td>3.310000</td>\n",
              "      <td>0.620000</td>\n",
              "      <td>10.200000</td>\n",
              "      <td>6.000000</td>\n",
              "    </tr>\n",
              "    <tr>\n",
              "      <th>75%</th>\n",
              "      <td>9.200000</td>\n",
              "      <td>0.640000</td>\n",
              "      <td>0.420000</td>\n",
              "      <td>2.600000</td>\n",
              "      <td>0.090000</td>\n",
              "      <td>21.000000</td>\n",
              "      <td>62.000000</td>\n",
              "      <td>0.997835</td>\n",
              "      <td>3.400000</td>\n",
              "      <td>0.730000</td>\n",
              "      <td>11.100000</td>\n",
              "      <td>6.000000</td>\n",
              "    </tr>\n",
              "    <tr>\n",
              "      <th>max</th>\n",
              "      <td>15.900000</td>\n",
              "      <td>1.580000</td>\n",
              "      <td>1.000000</td>\n",
              "      <td>15.500000</td>\n",
              "      <td>0.611000</td>\n",
              "      <td>72.000000</td>\n",
              "      <td>289.000000</td>\n",
              "      <td>1.003690</td>\n",
              "      <td>4.010000</td>\n",
              "      <td>2.000000</td>\n",
              "      <td>14.900000</td>\n",
              "      <td>8.000000</td>\n",
              "    </tr>\n",
              "  </tbody>\n",
              "</table>\n",
              "</div>"
            ],
            "text/plain": [
              "       fixed acidity  volatile acidity  ...      alcohol      quality\n",
              "count    1599.000000       1599.000000  ...  1599.000000  1599.000000\n",
              "mean        8.319637          0.527821  ...    10.422983     5.636023\n",
              "std         1.741096          0.179060  ...     1.065668     0.807569\n",
              "min         4.600000          0.120000  ...     8.400000     3.000000\n",
              "25%         7.100000          0.390000  ...     9.500000     5.000000\n",
              "50%         7.900000          0.520000  ...    10.200000     6.000000\n",
              "75%         9.200000          0.640000  ...    11.100000     6.000000\n",
              "max        15.900000          1.580000  ...    14.900000     8.000000\n",
              "\n",
              "[8 rows x 12 columns]"
            ]
          },
          "metadata": {
            "tags": []
          },
          "execution_count": 180
        }
      ]
    },
    {
      "cell_type": "markdown",
      "metadata": {
        "id": "JmgNUzcCP6yw"
      },
      "source": [
        "This is very helpful for visualising statistical measures. We have 1599 columns of fixed aciditiy, each column mean, std, minimum value, maximum value, 25% percentile values are less than 7.1 etc."
      ]
    },
    {
      "cell_type": "markdown",
      "metadata": {
        "id": "t-SjkMKxJ0Qg"
      },
      "source": [
        "#### Histogram of **quality** variable"
      ]
    },
    {
      "cell_type": "code",
      "metadata": {
        "colab": {
          "base_uri": "https://localhost:8080/",
          "height": 542
        },
        "id": "Ohn05wJ7KHRF",
        "outputId": "5c3e5e2d-c9ef-4525-e957-871b0f884710"
      },
      "source": [
        "px.histogram(redwineDF, x='quality').show()"
      ],
      "execution_count": 181,
      "outputs": [
        {
          "output_type": "display_data",
          "data": {
            "text/html": [
              "<html>\n",
              "<head><meta charset=\"utf-8\" /></head>\n",
              "<body>\n",
              "    <div>\n",
              "            <script src=\"https://cdnjs.cloudflare.com/ajax/libs/mathjax/2.7.5/MathJax.js?config=TeX-AMS-MML_SVG\"></script><script type=\"text/javascript\">if (window.MathJax) {MathJax.Hub.Config({SVG: {font: \"STIX-Web\"}});}</script>\n",
              "                <script type=\"text/javascript\">window.PlotlyConfig = {MathJaxConfig: 'local'};</script>\n",
              "        <script src=\"https://cdn.plot.ly/plotly-latest.min.js\"></script>    \n",
              "            <div id=\"3012e3ab-195b-4d7d-bacb-fe47d5d6e2a2\" class=\"plotly-graph-div\" style=\"height:525px; width:100%;\"></div>\n",
              "            <script type=\"text/javascript\">\n",
              "                \n",
              "                    window.PLOTLYENV=window.PLOTLYENV || {};\n",
              "                    \n",
              "                if (document.getElementById(\"3012e3ab-195b-4d7d-bacb-fe47d5d6e2a2\")) {\n",
              "                    Plotly.newPlot(\n",
              "                        '3012e3ab-195b-4d7d-bacb-fe47d5d6e2a2',\n",
              "                        [{\"alignmentgroup\": \"True\", \"bingroup\": \"x\", \"hoverlabel\": {\"namelength\": 0}, \"hovertemplate\": \"quality=%{x}<br>count=%{y}\", \"legendgroup\": \"\", \"marker\": {\"color\": \"#636efa\"}, \"name\": \"\", \"offsetgroup\": \"\", \"orientation\": \"v\", \"showlegend\": false, \"type\": \"histogram\", \"x\": [5, 5, 5, 6, 5, 5, 5, 7, 7, 5, 5, 5, 5, 5, 5, 5, 7, 5, 4, 6, 6, 5, 5, 5, 6, 5, 5, 5, 5, 6, 5, 6, 5, 6, 5, 6, 6, 7, 4, 5, 5, 4, 6, 5, 5, 4, 5, 5, 5, 5, 5, 6, 6, 5, 6, 5, 5, 5, 5, 6, 5, 5, 7, 5, 5, 5, 5, 5, 5, 6, 6, 5, 5, 4, 5, 5, 5, 6, 5, 4, 5, 5, 5, 5, 6, 5, 6, 5, 5, 5, 5, 6, 5, 5, 4, 6, 5, 5, 5, 6, 6, 6, 6, 5, 5, 5, 5, 5, 6, 5, 5, 5, 5, 6, 5, 6, 6, 6, 6, 6, 5, 6, 5, 5, 5, 5, 5, 5, 7, 5, 5, 5, 5, 6, 6, 5, 5, 5, 5, 5, 5, 5, 6, 5, 6, 5, 5, 5, 6, 6, 6, 4, 5, 5, 5, 5, 5, 5, 5, 6, 5, 4, 6, 5, 5, 5, 5, 4, 6, 5, 4, 6, 6, 6, 5, 5, 5, 6, 5, 5, 5, 5, 5, 5, 6, 5, 5, 5, 5, 5, 5, 6, 5, 5, 5, 5, 5, 6, 7, 4, 7, 5, 5, 5, 6, 7, 7, 5, 5, 7, 6, 6, 6, 5, 6, 5, 5, 5, 5, 5, 6, 5, 5, 6, 4, 6, 6, 5, 6, 5, 7, 6, 6, 5, 6, 6, 6, 6, 6, 6, 5, 6, 6, 7, 7, 6, 5, 5, 6, 6, 6, 6, 5, 5, 6, 5, 5, 5, 5, 7, 5, 4, 5, 5, 5, 7, 4, 8, 6, 6, 6, 6, 5, 5, 5, 6, 6, 6, 8, 7, 6, 7, 5, 7, 5, 5, 6, 6, 7, 5, 7, 5, 6, 6, 6, 5, 5, 5, 5, 5, 6, 6, 5, 5, 5, 6, 5, 6, 6, 6, 6, 6, 6, 5, 5, 6, 5, 6, 7, 6, 7, 5, 5, 6, 6, 6, 7, 5, 6, 5, 6, 6, 6, 5, 7, 7, 6, 5, 6, 7, 6, 6, 6, 6, 6, 5, 7, 6, 6, 6, 6, 6, 5, 5, 6, 6, 5, 7, 7, 6, 5, 6, 5, 5, 7, 6, 7, 5, 5, 7, 5, 6, 6, 5, 6, 7, 6, 7, 6, 6, 6, 6, 6, 6, 5, 6, 6, 6, 6, 7, 8, 6, 5, 5, 5, 7, 5, 6, 6, 5, 5, 6, 6, 6, 5, 6, 6, 7, 6, 4, 6, 5, 5, 7, 5, 5, 6, 5, 6, 5, 7, 7, 5, 7, 5, 7, 6, 6, 5, 6, 7, 5, 6, 5, 6, 5, 6, 6, 6, 5, 8, 6, 7, 7, 7, 6, 5, 5, 6, 6, 6, 6, 6, 7, 5, 8, 5, 5, 7, 3, 6, 5, 5, 5, 6, 5, 6, 6, 6, 5, 5, 6, 6, 5, 6, 5, 5, 6, 5, 6, 5, 8, 5, 5, 6, 5, 5, 6, 7, 6, 6, 7, 7, 6, 6, 8, 6, 5, 8, 6, 6, 7, 7, 7, 7, 7, 7, 6, 6, 7, 5, 6, 6, 7, 7, 5, 6, 3, 6, 5, 6, 5, 5, 5, 5, 5, 5, 6, 6, 5, 6, 5, 5, 6, 6, 6, 5, 6, 7, 5, 5, 6, 5, 6, 6, 5, 6, 6, 6, 6, 6, 6, 6, 5, 5, 5, 6, 5, 6, 6, 5, 5, 5, 6, 6, 5, 6, 6, 6, 6, 6, 6, 5, 4, 6, 6, 4, 5, 5, 6, 5, 5, 5, 7, 7, 6, 7, 5, 8, 7, 5, 6, 5, 5, 5, 5, 6, 6, 6, 6, 4, 6, 5, 6, 6, 6, 7, 6, 6, 6, 5, 5, 6, 5, 6, 5, 5, 6, 5, 5, 5, 5, 5, 6, 5, 5, 5, 5, 6, 5, 6, 5, 6, 4, 5, 5, 5, 5, 7, 6, 5, 5, 5, 5, 5, 7, 5, 4, 7, 6, 5, 5, 5, 6, 5, 5, 5, 7, 6, 4, 6, 5, 6, 6, 5, 5, 6, 6, 5, 6, 5, 5, 5, 5, 6, 5, 6, 5, 5, 5, 5, 6, 5, 5, 5, 5, 5, 5, 5, 5, 3, 5, 5, 5, 5, 6, 6, 6, 5, 6, 6, 6, 6, 4, 4, 5, 5, 5, 6, 6, 5, 5, 5, 5, 5, 6, 5, 5, 5, 5, 5, 5, 5, 5, 4, 5, 6, 5, 5, 6, 5, 5, 5, 5, 5, 5, 5, 6, 5, 5, 6, 5, 5, 5, 5, 6, 6, 5, 6, 6, 5, 5, 5, 5, 6, 6, 6, 5, 5, 5, 5, 5, 6, 5, 6, 6, 5, 5, 6, 5, 6, 5, 5, 6, 6, 5, 6, 6, 5, 5, 6, 5, 5, 5, 5, 5, 5, 6, 6, 5, 6, 5, 6, 5, 6, 5, 5, 7, 6, 6, 5, 5, 7, 6, 6, 7, 7, 7, 5, 6, 5, 6, 5, 4, 6, 5, 6, 6, 5, 5, 5, 7, 5, 5, 5, 5, 7, 5, 8, 6, 4, 6, 3, 4, 5, 5, 7, 7, 7, 5, 7, 5, 6, 5, 6, 5, 5, 6, 5, 5, 5, 5, 5, 6, 6, 7, 6, 7, 7, 6, 5, 6, 5, 5, 5, 5, 6, 6, 6, 6, 6, 5, 4, 7, 7, 7, 4, 6, 6, 5, 5, 6, 6, 5, 6, 5, 6, 7, 6, 5, 5, 5, 6, 5, 6, 6, 7, 6, 7, 3, 5, 7, 7, 7, 7, 5, 5, 6, 6, 6, 6, 6, 6, 7, 6, 6, 5, 6, 6, 6, 5, 6, 6, 6, 5, 7, 6, 4, 5, 7, 5, 5, 6, 5, 5, 6, 6, 4, 7, 5, 7, 7, 7, 7, 7, 7, 7, 7, 7, 7, 7, 7, 7, 7, 6, 5, 6, 6, 7, 5, 6, 5, 5, 6, 6, 6, 7, 5, 6, 5, 6, 6, 7, 5, 7, 5, 5, 5, 7, 5, 6, 5, 6, 6, 5, 6, 7, 5, 5, 6, 5, 5, 6, 5, 5, 6, 7, 7, 6, 6, 7, 7, 7, 7, 5, 7, 7, 7, 7, 5, 7, 6, 5, 6, 6, 6, 7, 6, 6, 5, 6, 6, 5, 6, 7, 6, 6, 5, 6, 7, 7, 7, 5, 6, 6, 7, 7, 5, 7, 6, 5, 6, 6, 7, 6, 6, 6, 5, 6, 6, 5, 5, 5, 7, 6, 6, 7, 5, 7, 7, 6, 8, 6, 6, 6, 6, 7, 7, 7, 5, 7, 5, 6, 6, 5, 7, 6, 5, 5, 7, 6, 7, 6, 6, 6, 5, 7, 6, 7, 7, 8, 6, 6, 7, 6, 5, 6, 5, 7, 5, 6, 6, 6, 6, 6, 5, 6, 7, 5, 6, 6, 7, 6, 6, 6, 6, 6, 6, 6, 5, 8, 6, 6, 6, 4, 7, 6, 6, 5, 6, 6, 5, 7, 7, 7, 6, 6, 6, 5, 6, 6, 6, 6, 6, 5, 6, 6, 7, 6, 6, 7, 6, 5, 6, 6, 5, 7, 7, 6, 5, 7, 6, 7, 5, 5, 5, 5, 7, 6, 6, 6, 6, 6, 6, 6, 6, 4, 7, 5, 6, 6, 5, 6, 5, 5, 6, 5, 6, 5, 4, 6, 5, 7, 5, 6, 6, 6, 6, 6, 6, 6, 7, 8, 5, 7, 7, 7, 5, 7, 7, 6, 5, 6, 6, 6, 6, 6, 6, 6, 6, 6, 6, 6, 6, 6, 5, 5, 5, 7, 5, 6, 5, 5, 4, 6, 4, 6, 6, 4, 4, 5, 5, 6, 5, 6, 5, 5, 5, 6, 6, 6, 5, 5, 5, 5, 5, 5, 6, 6, 6, 5, 4, 5, 4, 6, 6, 6, 6, 6, 8, 6, 6, 5, 5, 6, 6, 4, 6, 6, 7, 6, 6, 6, 6, 5, 5, 6, 5, 5, 5, 5, 6, 6, 4, 6, 5, 5, 6, 6, 3, 6, 6, 6, 5, 5, 5, 5, 4, 5, 5, 5, 6, 5, 6, 6, 6, 6, 6, 6, 6, 5, 6, 5, 7, 6, 6, 6, 6, 5, 6, 6, 5, 6, 5, 5, 6, 5, 5, 5, 6, 6, 6, 6, 6, 5, 6, 5, 5, 5, 5, 5, 6, 5, 5, 5, 5, 5, 6, 5, 6, 5, 5, 6, 4, 6, 5, 5, 6, 6, 4, 5, 6, 5, 5, 3, 5, 5, 6, 6, 6, 6, 5, 5, 5, 5, 5, 5, 5, 5, 5, 6, 5, 5, 5, 5, 6, 5, 5, 7, 6, 5, 5, 6, 8, 6, 7, 6, 6, 7, 6, 6, 6, 6, 5, 5, 5, 5, 7, 5, 5, 5, 5, 6, 4, 6, 6, 6, 5, 5, 5, 5, 6, 6, 7, 6, 6, 5, 5, 5, 6, 7, 6, 5, 5, 6, 6, 5, 5, 5, 8, 7, 7, 7, 5, 6, 6, 6, 5, 5, 7, 6, 4, 6, 6, 5, 5, 7, 4, 7, 3, 5, 5, 6, 5, 5, 7, 5, 7, 3, 5, 4, 5, 4, 5, 4, 5, 5, 5, 5, 6, 6, 5, 5, 5, 7, 6, 5, 6, 6, 6, 5, 5, 5, 6, 6, 3, 6, 6, 6, 5, 6, 5, 6, 6, 6, 6, 5, 6, 5, 5, 6, 4, 5, 5, 6, 5, 6, 6, 6, 6, 6, 5, 6, 5, 7, 6, 6, 6, 5, 5, 6, 7, 6, 6, 7, 6, 5, 5, 5, 8, 5, 5, 6, 5, 6, 7, 5, 6, 5, 5, 5, 5, 5, 5, 5, 6, 6, 5, 5, 6, 6, 6, 5, 6, 6, 6, 6, 6, 6, 5, 6, 5, 5, 5, 7, 6, 6, 6, 6, 5, 6, 6, 6, 6, 5, 6, 6, 5, 6], \"xaxis\": \"x\", \"yaxis\": \"y\"}],\n",
              "                        {\"barmode\": \"relative\", \"legend\": {\"tracegroupgap\": 0}, \"margin\": {\"t\": 60}, \"template\": {\"data\": {\"bar\": [{\"error_x\": {\"color\": \"#2a3f5f\"}, \"error_y\": {\"color\": \"#2a3f5f\"}, \"marker\": {\"line\": {\"color\": \"#E5ECF6\", \"width\": 0.5}}, \"type\": \"bar\"}], \"barpolar\": [{\"marker\": {\"line\": {\"color\": \"#E5ECF6\", \"width\": 0.5}}, \"type\": \"barpolar\"}], \"carpet\": [{\"aaxis\": {\"endlinecolor\": \"#2a3f5f\", \"gridcolor\": \"white\", \"linecolor\": \"white\", \"minorgridcolor\": \"white\", \"startlinecolor\": \"#2a3f5f\"}, \"baxis\": {\"endlinecolor\": \"#2a3f5f\", \"gridcolor\": \"white\", \"linecolor\": \"white\", \"minorgridcolor\": \"white\", \"startlinecolor\": \"#2a3f5f\"}, \"type\": \"carpet\"}], \"choropleth\": [{\"colorbar\": {\"outlinewidth\": 0, \"ticks\": \"\"}, \"type\": \"choropleth\"}], \"contour\": [{\"colorbar\": {\"outlinewidth\": 0, \"ticks\": \"\"}, \"colorscale\": [[0.0, \"#0d0887\"], [0.1111111111111111, \"#46039f\"], [0.2222222222222222, \"#7201a8\"], [0.3333333333333333, \"#9c179e\"], [0.4444444444444444, \"#bd3786\"], [0.5555555555555556, \"#d8576b\"], [0.6666666666666666, \"#ed7953\"], [0.7777777777777778, \"#fb9f3a\"], [0.8888888888888888, \"#fdca26\"], [1.0, \"#f0f921\"]], \"type\": \"contour\"}], \"contourcarpet\": [{\"colorbar\": {\"outlinewidth\": 0, \"ticks\": \"\"}, \"type\": \"contourcarpet\"}], \"heatmap\": [{\"colorbar\": {\"outlinewidth\": 0, \"ticks\": \"\"}, \"colorscale\": [[0.0, \"#0d0887\"], [0.1111111111111111, \"#46039f\"], [0.2222222222222222, \"#7201a8\"], [0.3333333333333333, \"#9c179e\"], [0.4444444444444444, \"#bd3786\"], [0.5555555555555556, \"#d8576b\"], [0.6666666666666666, \"#ed7953\"], [0.7777777777777778, \"#fb9f3a\"], [0.8888888888888888, \"#fdca26\"], [1.0, \"#f0f921\"]], \"type\": \"heatmap\"}], \"heatmapgl\": [{\"colorbar\": {\"outlinewidth\": 0, \"ticks\": \"\"}, \"colorscale\": [[0.0, \"#0d0887\"], [0.1111111111111111, \"#46039f\"], [0.2222222222222222, \"#7201a8\"], [0.3333333333333333, \"#9c179e\"], [0.4444444444444444, \"#bd3786\"], [0.5555555555555556, \"#d8576b\"], [0.6666666666666666, \"#ed7953\"], [0.7777777777777778, \"#fb9f3a\"], [0.8888888888888888, \"#fdca26\"], [1.0, \"#f0f921\"]], \"type\": \"heatmapgl\"}], \"histogram\": [{\"marker\": {\"colorbar\": {\"outlinewidth\": 0, \"ticks\": \"\"}}, \"type\": \"histogram\"}], \"histogram2d\": [{\"colorbar\": {\"outlinewidth\": 0, \"ticks\": \"\"}, \"colorscale\": [[0.0, \"#0d0887\"], [0.1111111111111111, \"#46039f\"], [0.2222222222222222, \"#7201a8\"], [0.3333333333333333, \"#9c179e\"], [0.4444444444444444, \"#bd3786\"], [0.5555555555555556, \"#d8576b\"], [0.6666666666666666, \"#ed7953\"], [0.7777777777777778, \"#fb9f3a\"], [0.8888888888888888, \"#fdca26\"], [1.0, \"#f0f921\"]], \"type\": \"histogram2d\"}], \"histogram2dcontour\": [{\"colorbar\": {\"outlinewidth\": 0, \"ticks\": \"\"}, \"colorscale\": [[0.0, \"#0d0887\"], [0.1111111111111111, \"#46039f\"], [0.2222222222222222, \"#7201a8\"], [0.3333333333333333, \"#9c179e\"], [0.4444444444444444, \"#bd3786\"], [0.5555555555555556, \"#d8576b\"], [0.6666666666666666, \"#ed7953\"], [0.7777777777777778, \"#fb9f3a\"], [0.8888888888888888, \"#fdca26\"], [1.0, \"#f0f921\"]], \"type\": \"histogram2dcontour\"}], \"mesh3d\": [{\"colorbar\": {\"outlinewidth\": 0, \"ticks\": \"\"}, \"type\": \"mesh3d\"}], \"parcoords\": [{\"line\": {\"colorbar\": {\"outlinewidth\": 0, \"ticks\": \"\"}}, \"type\": \"parcoords\"}], \"pie\": [{\"automargin\": true, \"type\": \"pie\"}], \"scatter\": [{\"marker\": {\"colorbar\": {\"outlinewidth\": 0, \"ticks\": \"\"}}, \"type\": \"scatter\"}], \"scatter3d\": [{\"line\": {\"colorbar\": {\"outlinewidth\": 0, \"ticks\": \"\"}}, \"marker\": {\"colorbar\": {\"outlinewidth\": 0, \"ticks\": \"\"}}, \"type\": \"scatter3d\"}], \"scattercarpet\": [{\"marker\": {\"colorbar\": {\"outlinewidth\": 0, \"ticks\": \"\"}}, \"type\": \"scattercarpet\"}], \"scattergeo\": [{\"marker\": {\"colorbar\": {\"outlinewidth\": 0, \"ticks\": \"\"}}, \"type\": \"scattergeo\"}], \"scattergl\": [{\"marker\": {\"colorbar\": {\"outlinewidth\": 0, \"ticks\": \"\"}}, \"type\": \"scattergl\"}], \"scattermapbox\": [{\"marker\": {\"colorbar\": {\"outlinewidth\": 0, \"ticks\": \"\"}}, \"type\": \"scattermapbox\"}], \"scatterpolar\": [{\"marker\": {\"colorbar\": {\"outlinewidth\": 0, \"ticks\": \"\"}}, \"type\": \"scatterpolar\"}], \"scatterpolargl\": [{\"marker\": {\"colorbar\": {\"outlinewidth\": 0, \"ticks\": \"\"}}, \"type\": \"scatterpolargl\"}], \"scatterternary\": [{\"marker\": {\"colorbar\": {\"outlinewidth\": 0, \"ticks\": \"\"}}, \"type\": \"scatterternary\"}], \"surface\": [{\"colorbar\": {\"outlinewidth\": 0, \"ticks\": \"\"}, \"colorscale\": [[0.0, \"#0d0887\"], [0.1111111111111111, \"#46039f\"], [0.2222222222222222, \"#7201a8\"], [0.3333333333333333, \"#9c179e\"], [0.4444444444444444, \"#bd3786\"], [0.5555555555555556, \"#d8576b\"], [0.6666666666666666, \"#ed7953\"], [0.7777777777777778, \"#fb9f3a\"], [0.8888888888888888, \"#fdca26\"], [1.0, \"#f0f921\"]], \"type\": \"surface\"}], \"table\": [{\"cells\": {\"fill\": {\"color\": \"#EBF0F8\"}, \"line\": {\"color\": \"white\"}}, \"header\": {\"fill\": {\"color\": \"#C8D4E3\"}, \"line\": {\"color\": \"white\"}}, \"type\": \"table\"}]}, \"layout\": {\"annotationdefaults\": {\"arrowcolor\": \"#2a3f5f\", \"arrowhead\": 0, \"arrowwidth\": 1}, \"coloraxis\": {\"colorbar\": {\"outlinewidth\": 0, \"ticks\": \"\"}}, \"colorscale\": {\"diverging\": [[0, \"#8e0152\"], [0.1, \"#c51b7d\"], [0.2, \"#de77ae\"], [0.3, \"#f1b6da\"], [0.4, \"#fde0ef\"], [0.5, \"#f7f7f7\"], [0.6, \"#e6f5d0\"], [0.7, \"#b8e186\"], [0.8, \"#7fbc41\"], [0.9, \"#4d9221\"], [1, \"#276419\"]], \"sequential\": [[0.0, \"#0d0887\"], [0.1111111111111111, \"#46039f\"], [0.2222222222222222, \"#7201a8\"], [0.3333333333333333, \"#9c179e\"], [0.4444444444444444, \"#bd3786\"], [0.5555555555555556, \"#d8576b\"], [0.6666666666666666, \"#ed7953\"], [0.7777777777777778, \"#fb9f3a\"], [0.8888888888888888, \"#fdca26\"], [1.0, \"#f0f921\"]], \"sequentialminus\": [[0.0, \"#0d0887\"], [0.1111111111111111, \"#46039f\"], [0.2222222222222222, \"#7201a8\"], [0.3333333333333333, \"#9c179e\"], [0.4444444444444444, \"#bd3786\"], [0.5555555555555556, \"#d8576b\"], [0.6666666666666666, \"#ed7953\"], [0.7777777777777778, \"#fb9f3a\"], [0.8888888888888888, \"#fdca26\"], [1.0, \"#f0f921\"]]}, \"colorway\": [\"#636efa\", \"#EF553B\", \"#00cc96\", \"#ab63fa\", \"#FFA15A\", \"#19d3f3\", \"#FF6692\", \"#B6E880\", \"#FF97FF\", \"#FECB52\"], \"font\": {\"color\": \"#2a3f5f\"}, \"geo\": {\"bgcolor\": \"white\", \"lakecolor\": \"white\", \"landcolor\": \"#E5ECF6\", \"showlakes\": true, \"showland\": true, \"subunitcolor\": \"white\"}, \"hoverlabel\": {\"align\": \"left\"}, \"hovermode\": \"closest\", \"mapbox\": {\"style\": \"light\"}, \"paper_bgcolor\": \"white\", \"plot_bgcolor\": \"#E5ECF6\", \"polar\": {\"angularaxis\": {\"gridcolor\": \"white\", \"linecolor\": \"white\", \"ticks\": \"\"}, \"bgcolor\": \"#E5ECF6\", \"radialaxis\": {\"gridcolor\": \"white\", \"linecolor\": \"white\", \"ticks\": \"\"}}, \"scene\": {\"xaxis\": {\"backgroundcolor\": \"#E5ECF6\", \"gridcolor\": \"white\", \"gridwidth\": 2, \"linecolor\": \"white\", \"showbackground\": true, \"ticks\": \"\", \"zerolinecolor\": \"white\"}, \"yaxis\": {\"backgroundcolor\": \"#E5ECF6\", \"gridcolor\": \"white\", \"gridwidth\": 2, \"linecolor\": \"white\", \"showbackground\": true, \"ticks\": \"\", \"zerolinecolor\": \"white\"}, \"zaxis\": {\"backgroundcolor\": \"#E5ECF6\", \"gridcolor\": \"white\", \"gridwidth\": 2, \"linecolor\": \"white\", \"showbackground\": true, \"ticks\": \"\", \"zerolinecolor\": \"white\"}}, \"shapedefaults\": {\"line\": {\"color\": \"#2a3f5f\"}}, \"ternary\": {\"aaxis\": {\"gridcolor\": \"white\", \"linecolor\": \"white\", \"ticks\": \"\"}, \"baxis\": {\"gridcolor\": \"white\", \"linecolor\": \"white\", \"ticks\": \"\"}, \"bgcolor\": \"#E5ECF6\", \"caxis\": {\"gridcolor\": \"white\", \"linecolor\": \"white\", \"ticks\": \"\"}}, \"title\": {\"x\": 0.05}, \"xaxis\": {\"automargin\": true, \"gridcolor\": \"white\", \"linecolor\": \"white\", \"ticks\": \"\", \"title\": {\"standoff\": 15}, \"zerolinecolor\": \"white\", \"zerolinewidth\": 2}, \"yaxis\": {\"automargin\": true, \"gridcolor\": \"white\", \"linecolor\": \"white\", \"ticks\": \"\", \"title\": {\"standoff\": 15}, \"zerolinecolor\": \"white\", \"zerolinewidth\": 2}}}, \"xaxis\": {\"anchor\": \"y\", \"domain\": [0.0, 1.0], \"title\": {\"text\": \"quality\"}}, \"yaxis\": {\"anchor\": \"x\", \"domain\": [0.0, 1.0], \"title\": {\"text\": \"count\"}}},\n",
              "                        {\"responsive\": true}\n",
              "                    ).then(function(){\n",
              "                            \n",
              "var gd = document.getElementById('3012e3ab-195b-4d7d-bacb-fe47d5d6e2a2');\n",
              "var x = new MutationObserver(function (mutations, observer) {{\n",
              "        var display = window.getComputedStyle(gd).display;\n",
              "        if (!display || display === 'none') {{\n",
              "            console.log([gd, 'removed!']);\n",
              "            Plotly.purge(gd);\n",
              "            observer.disconnect();\n",
              "        }}\n",
              "}});\n",
              "\n",
              "// Listen for the removal of the full notebook cells\n",
              "var notebookContainer = gd.closest('#notebook-container');\n",
              "if (notebookContainer) {{\n",
              "    x.observe(notebookContainer, {childList: true});\n",
              "}}\n",
              "\n",
              "// Listen for the clearing of the current output cell\n",
              "var outputEl = gd.closest('.output');\n",
              "if (outputEl) {{\n",
              "    x.observe(outputEl, {childList: true});\n",
              "}}\n",
              "\n",
              "                        })\n",
              "                };\n",
              "                \n",
              "            </script>\n",
              "        </div>\n",
              "</body>\n",
              "</html>"
            ]
          },
          "metadata": {
            "tags": []
          }
        }
      ]
    },
    {
      "cell_type": "markdown",
      "metadata": {
        "id": "LQpFEN1eKgQD"
      },
      "source": [
        "#### catplot of **quality** variable"
      ]
    },
    {
      "cell_type": "code",
      "metadata": {
        "colab": {
          "base_uri": "https://localhost:8080/",
          "height": 0
        },
        "id": "VaR0XHleQ7oU",
        "outputId": "41209119-1fce-46fc-adb3-96dd7d99b49f"
      },
      "source": [
        "# number of values for each quality\n",
        "sns.catplot(x = 'quality', data = redwineDF, kind='count')\n"
      ],
      "execution_count": 182,
      "outputs": [
        {
          "output_type": "execute_result",
          "data": {
            "text/plain": [
              "<seaborn.axisgrid.FacetGrid at 0x7f6b91d05050>"
            ]
          },
          "metadata": {
            "tags": []
          },
          "execution_count": 182
        },
        {
          "output_type": "display_data",
          "data": {
            "image/png": "[encoded data removed]",
            "text/plain": [
              "<Figure size 360x360 with 1 Axes>"
            ]
          },
          "metadata": {
            "tags": [],
            "needs_background": "light"
          }
        }
      ]
    },
    {
      "cell_type": "markdown",
      "metadata": {
        "id": "S9iClQSTR0-o"
      },
      "source": [
        "We are getting quality values ranging from 3 to 6. Where most of the wine quality is avg(5,6, 7) and 8 means too good."
      ]
    },
    {
      "cell_type": "markdown",
      "metadata": {
        "id": "bKrHZXqOSJfh"
      },
      "source": [
        "### More Analysis on which values related to quality"
      ]
    },
    {
      "cell_type": "code",
      "metadata": {
        "colab": {
          "base_uri": "https://localhost:8080/",
          "height": 0
        },
        "id": "ya8MlL41RtRq",
        "outputId": "2b990a39-6c2b-445c-f1f4-fe3db9c53752"
      },
      "source": [
        "# fixed acidity vs Quality\n",
        "plot = plt.figure(figsize=(5, 5)) \n",
        "sns.barplot(x = 'quality', y = 'fixed acidity', data = redwineDF) # creating barplot\n",
        "\n",
        "# volatile acidity vs Quality\n",
        "plot = plt.figure(figsize=(5, 5)) \n",
        "sns.barplot(x = 'quality', y = 'volatile acidity', data = redwineDF) # creating barplot\n",
        "\n",
        "# citric acid vs Quality\n",
        "plot = plt.figure(figsize=(5, 5)) \n",
        "sns.barplot(x = 'quality', y = 'citric acid', data = redwineDF) # creating barplot\n",
        "\n",
        "# residual sugar vs Quality\n",
        "plot = plt.figure(figsize=(5, 5)) \n",
        "sns.barplot(x = 'quality', y = 'residual sugar', data = redwineDF) # creating barplot\n",
        "\n",
        "# chlorides vs Quality\n",
        "plot = plt.figure(figsize=(5, 5)) \n",
        "sns.barplot(x = 'quality', y = 'chlorides', data = redwineDF) # creating barplot\n",
        "\n",
        "# free sulfur dioxide vs Quality\n",
        "plot = plt.figure(figsize=(5, 5)) \n",
        "sns.barplot(x = 'quality', y = 'free sulfur dioxide', data = redwineDF) # creating barplot\n",
        "\n",
        "# total sulfur dioxide vs Quality\n",
        "plot = plt.figure(figsize=(5, 5)) \n",
        "sns.barplot(x = 'quality', y = 'total sulfur dioxide', data = redwineDF) # creating barplot\n",
        "\n",
        "# density vs Quality\n",
        "plot = plt.figure(figsize=(5, 5)) \n",
        "sns.barplot(x = 'quality', y = 'density', data = redwineDF) # creating barplot\n",
        "\n",
        "# pH vs Quality\n",
        "plot = plt.figure(figsize=(5, 5)) \n",
        "sns.barplot(x = 'quality', y = 'pH', data = redwineDF) # creating barplot\n",
        "\n",
        "# sulphates vs Quality\n",
        "plot = plt.figure(figsize=(5, 5)) \n",
        "sns.barplot(x = 'quality', y = 'sulphates', data = redwineDF) # creating barplot\n",
        "\n",
        "# alcohol vs Quality\n",
        "plot = plt.figure(figsize=(5, 5)) \n",
        "sns.barplot(x = 'quality', y = 'alcohol', data = redwineDF) # creating barplot"
      ],
      "execution_count": 183,
      "outputs": [
        {
          "output_type": "execute_result",
          "data": {
            "text/plain": [
              "<matplotlib.axes._subplots.AxesSubplot at 0x7f6b9f208210>"
            ]
          },
          "metadata": {
            "tags": []
          },
          "execution_count": 183
        },
        {
          "output_type": "display_data",
          "data": {
            "image/png": "[encoded data removed]",
            "text/plain": [
              "<Figure size 360x360 with 1 Axes>"
            ]
          },
          "metadata": {
            "tags": [],
            "needs_background": "light"
          }
        },
        {
          "output_type": "display_data",
          "data": {
            "image/png": "[encoded data removed]",
            "text/plain": [
              "<Figure size 360x360 with 1 Axes>"
            ]
          },
          "metadata": {
            "tags": [],
            "needs_background": "light"
          }
        },
        {
          "output_type": "display_data",
          "data": {
            "image/png": "[encoded data removed]",
            "text/plain": [
              "<Figure size 360x360 with 1 Axes>"
            ]
          },
          "metadata": {
            "tags": [],
            "needs_background": "light"
          }
        },
        {
          "output_type": "display_data",
          "data": {
            "image/png": "[encoded data removed]",
            "text/plain": [
              "<Figure size 360x360 with 1 Axes>"
            ]
          },
          "metadata": {
            "tags": [],
            "needs_background": "light"
          }
        },
        {
          "output_type": "display_data",
          "data": {
            "image/png": "[encoded data removed]",
            "text/plain": [
              "<Figure size 360x360 with 1 Axes>"
            ]
          },
          "metadata": {
            "tags": [],
            "needs_background": "light"
          }
        },
        {
          "output_type": "display_data",
          "data": {
            "image/png": "[encoded data removed]",
            "text/plain": [
              "<Figure size 360x360 with 1 Axes>"
            ]
          },
          "metadata": {
            "tags": [],
            "needs_background": "light"
          }
        },
        {
          "output_type": "display_data",
          "data": {
            "image/png": "[encoded data removed]",
            "text/plain": [
              "<Figure size 360x360 with 1 Axes>"
            ]
          },
          "metadata": {
            "tags": [],
            "needs_background": "light"
          }
        },
        {
          "output_type": "display_data",
          "data": {
            "image/png": "[encoded data removed]",
            "text/plain": [
              "<Figure size 360x360 with 1 Axes>"
            ]
          },
          "metadata": {
            "tags": [],
            "needs_background": "light"
          }
        },
        {
          "output_type": "display_data",
          "data": {
            "image/png": "[encoded data removed]",
            "text/plain": [
              "<Figure size 360x360 with 1 Axes>"
            ]
          },
          "metadata": {
            "tags": [],
            "needs_background": "light"
          }
        },
        {
          "output_type": "display_data",
          "data": {
            "image/png": "[encoded data removed]",
            "text/plain": [
              "<Figure size 360x360 with 1 Axes>"
            ]
          },
          "metadata": {
            "tags": [],
            "needs_background": "light"
          }
        },
        {
          "output_type": "display_data",
          "data": {
            "image/png": "[encoded data removed]",
            "text/plain": [
              "<Figure size 360x360 with 1 Axes>"
            ]
          },
          "metadata": {
            "tags": [],
            "needs_background": "light"
          }
        }
      ]
    },
    {
      "cell_type": "markdown",
      "metadata": {
        "id": "mgTJNn49VZ3T"
      },
      "source": [
        "### Correlation between all the columns and quality columns"
      ]
    },
    {
      "cell_type": "markdown",
      "metadata": {
        "id": "m_6elpZxVkGJ"
      },
      "source": [
        "It will allows as to get a much better understanding of the relationships between my variables in a quick glimpse.\n",
        "\n",
        "There are 2 types of correlation\n",
        "- Positive correlation: if two values are positively correlated means if increasing in one, also increases other. And vice versa. \n",
        "- Negative correlation: Oppositive, inverseley proportional"
      ]
    },
    {
      "cell_type": "code",
      "metadata": {
        "colab": {
          "base_uri": "https://localhost:8080/",
          "height": 968
        },
        "id": "yrto0xsUWSY5",
        "outputId": "6737f5d9-51fe-4e6f-90b2-2a394d097448"
      },
      "source": [
        "correlation = redwineDF.corr() # finding correlation values using .corr() and later we are applying it for our heatmap\n",
        "\n",
        "# constructing a heat map to understand the correlation between the columns\n",
        "plt.figure(figsize = (30, 15))\n",
        "sns.heatmap(correlation, cbar=True, square=True, fmt='.1f', annot=True, cmap=sns.diverging_palette(220, 20, as_cmap=True))\n",
        "\n",
        "# cbar means colorbar gives how much correlated the values are\n",
        "# .1f means 1 value after decimal\n",
        "# All of them are in square form\n",
        "# annotations means fixed acidity ...\n",
        "# annotations text size\n",
        "# map color"
      ],
      "execution_count": 184,
      "outputs": [
        {
          "output_type": "execute_result",
          "data": {
            "text/plain": [
              "<matplotlib.axes._subplots.AxesSubplot at 0x7f6b91d78410>"
            ]
          },
          "metadata": {
            "tags": []
          },
          "execution_count": 184
        },
        {
          "output_type": "display_data",
          "data": {
            "image/png": "[encoded data removed]",
            "text/plain": [
              "<Figure size 2160x1080 with 2 Axes>"
            ]
          },
          "metadata": {
            "tags": [],
            "needs_background": "light"
          }
        }
      ]
    },
    {
      "cell_type": "markdown",
      "metadata": {
        "id": "BnpD8oNbdWtx"
      },
      "source": [
        "Here we can see at quality column, volatile acidity is the most negtvly correlated and alchohole is the most positively correlated with quality column. "
      ]
    },
    {
      "cell_type": "markdown",
      "metadata": {
        "id": "c1tpvUe2djh2"
      },
      "source": [
        "## Data Preprocessing"
      ]
    },
    {
      "cell_type": "code",
      "metadata": {
        "colab": {
          "base_uri": "https://localhost:8080/"
        },
        "id": "98bduLkBW6VG",
        "outputId": "da85d124-0699-4163-9f7d-80a418841bec"
      },
      "source": [
        "# seperate the data and label i.e. all other columns from quality\n",
        "X = redwineDF.drop('quality', axis=1) # axis 1 when dropping columns, and 0 when dropping rows\n",
        "print(X) # printing feature variables"
      ],
      "execution_count": 185,
      "outputs": [
        {
          "output_type": "stream",
          "text": [
            "      fixed acidity  volatile acidity  citric acid  ...    pH  sulphates  alcohol\n",
            "0               7.4             0.700         0.00  ...  3.51       0.56      9.4\n",
            "1               7.8             0.880         0.00  ...  3.20       0.68      9.8\n",
            "2               7.8             0.760         0.04  ...  3.26       0.65      9.8\n",
            "3              11.2             0.280         0.56  ...  3.16       0.58      9.8\n",
            "4               7.4             0.700         0.00  ...  3.51       0.56      9.4\n",
            "...             ...               ...          ...  ...   ...        ...      ...\n",
            "1594            6.2             0.600         0.08  ...  3.45       0.58     10.5\n",
            "1595            5.9             0.550         0.10  ...  3.52       0.76     11.2\n",
            "1596            6.3             0.510         0.13  ...  3.42       0.75     11.0\n",
            "1597            5.9             0.645         0.12  ...  3.57       0.71     10.2\n",
            "1598            6.0             0.310         0.47  ...  3.39       0.66     11.0\n",
            "\n",
            "[1599 rows x 11 columns]\n"
          ],
          "name": "stdout"
        }
      ]
    },
    {
      "cell_type": "markdown",
      "metadata": {
        "id": "LXnDTHgGem3N"
      },
      "source": [
        "### Label Binarization/Encoding"
      ]
    },
    {
      "cell_type": "markdown",
      "metadata": {
        "id": "79K5mKQzeLol"
      },
      "source": [
        "So now, we will seperate our quality column as if quality `<7` is bad and Good otherwise"
      ]
    },
    {
      "cell_type": "code",
      "metadata": {
        "colab": {
          "base_uri": "https://localhost:8080/"
        },
        "id": "R2srrMRFet5T",
        "outputId": "dbe44d92-9f37-45bf-9398-f257c7a053b8"
      },
      "source": [
        "Y = redwineDF['quality'].apply(lambda y_value: 1 if y_value >= 7 else 0) \n",
        "print(Y) # target varibales into 0 or 1"
      ],
      "execution_count": 186,
      "outputs": [
        {
          "output_type": "stream",
          "text": [
            "0       0\n",
            "1       0\n",
            "2       0\n",
            "3       0\n",
            "4       0\n",
            "       ..\n",
            "1594    0\n",
            "1595    0\n",
            "1596    0\n",
            "1597    0\n",
            "1598    0\n",
            "Name: quality, Length: 1599, dtype: int64\n"
          ],
          "name": "stdout"
        }
      ]
    },
    {
      "cell_type": "markdown",
      "metadata": {
        "id": "UbkZ7RgnfRpL"
      },
      "source": [
        "## Data Modeling"
      ]
    },
    {
      "cell_type": "markdown",
      "metadata": {
        "id": "NpHu4oYqVfPH"
      },
      "source": [
        "### Standardizing Feature Variables"
      ]
    },
    {
      "cell_type": "markdown",
      "metadata": {
        "id": "e65WjtADVrYm"
      },
      "source": [
        " **Standardizing** the data means that it will transform the data so that its distribution will have a mean of 0 and a standard deviation of 1. It’s important to standardize your data in order to equalize the range of the data."
      ]
    },
    {
      "cell_type": "code",
      "metadata": {
        "id": "r-zx6eUSVkfX"
      },
      "source": [
        "# Normalize feature variables\n",
        "from sklearn.preprocessing import StandardScaler\n",
        "X_features = X\n",
        "X = StandardScaler().fit_transform(X)"
      ],
      "execution_count": 187,
      "outputs": []
    },
    {
      "cell_type": "markdown",
      "metadata": {
        "id": "Cw_qGAURgHOM"
      },
      "source": [
        "## Model Training"
      ]
    },
    {
      "cell_type": "code",
      "metadata": {
        "id": "8h2sFT7dYOP-"
      },
      "source": [
        "\n",
        "from sklearn.preprocessing import StandardScaler\n",
        "\n",
        "\n",
        "# Classify Function\n",
        "def classify(model, X, y):\n",
        "  \n",
        "  # spliting dataset & train model\n",
        "  X_train, X_test, Y_train, Y_test = train_test_split(X, Y, test_size=0.25, random_state=2) # 20% test dataset\n",
        "  model.fit(X_train, Y_train)\n",
        "  \n",
        "  # prediction and accuracy\n",
        "  X_test_prediction = model.predict(X_test) # predict for X_test\n",
        "  test_data_accuracy = accuracy_score(X_test_prediction, Y_test) # test data accuracy\n",
        "\n",
        "  # cross-validation\n",
        "  score = cross_val_score(model, X, y, cv=5)\n",
        "\n",
        "  # print\n",
        "  print(\"|------------|-----------------------|\")\n",
        "  print(\"|  Accuracy  |       \" + str(test_data_accuracy*100) + \"%           |\")\n",
        "  print(\"|  CV Score  |       \" + str(np.round(np.mean(score)*100, 2)) + \"%          |\")\n",
        "  print(\"|------------------------------------|\")\n",
        "  print(\"\")\n",
        "  # print(\"Accuracy: \" + str(test_data_accuracy*100) + \"%\")\n",
        "  # print(\"CV Score: \" + str(np.round(np.mean(score)*100, 2)) + \"%\")\n",
        "  print(\"|------------------------------------|\")\n",
        "  print(\"|   Printing Classification Report   |\")\n",
        "  print(\"|------------------------------------|\")\n",
        "  print(\"\")\n",
        "  print(\"\")\n",
        "  print(classification_report(Y_test, X_test_prediction))"
      ],
      "execution_count": 188,
      "outputs": []
    },
    {
      "cell_type": "markdown",
      "metadata": {
        "id": "UkFbQaZAhsBQ"
      },
      "source": [
        "## Model Evaluation (Classification Models Feeding)"
      ]
    },
    {
      "cell_type": "markdown",
      "metadata": {
        "id": "fpckOTwLh1EC"
      },
      "source": [
        "#### Model 1: LogisticRegression"
      ]
    },
    {
      "cell_type": "code",
      "metadata": {
        "colab": {
          "base_uri": "https://localhost:8080/"
        },
        "id": "RXZ64dZkh5R8",
        "outputId": "4eda7b5f-391b-4464-8011-59a582d404f4"
      },
      "source": [
        "from sklearn.linear_model import LogisticRegression\n",
        "reggressionModel = LogisticRegression()\n",
        "classify(reggressionModel, X, Y)"
      ],
      "execution_count": 189,
      "outputs": [
        {
          "output_type": "stream",
          "text": [
            "|------------|-----------------------|\n",
            "|  Accuracy  |       89.0%           |\n",
            "|  CV Score  |       86.74%          |\n",
            "|------------------------------------|\n",
            "\n",
            "|------------------------------------|\n",
            "|   Printing Classification Report   |\n",
            "|------------------------------------|\n",
            "\n",
            "\n",
            "              precision    recall  f1-score   support\n",
            "\n",
            "           0       0.91      0.97      0.94       347\n",
            "           1       0.64      0.40      0.49        53\n",
            "\n",
            "    accuracy                           0.89       400\n",
            "   macro avg       0.77      0.68      0.71       400\n",
            "weighted avg       0.88      0.89      0.88       400\n",
            "\n"
          ],
          "name": "stdout"
        }
      ]
    },
    {
      "cell_type": "markdown",
      "metadata": {
        "id": "Si0XeNzTh05V"
      },
      "source": [
        "#### Model 2: Decision Tree classifier"
      ]
    },
    {
      "cell_type": "code",
      "metadata": {
        "colab": {
          "base_uri": "https://localhost:8080/"
        },
        "id": "1Zf6roTOlEZv",
        "outputId": "171c0b97-3440-4791-e944-e9fed938de5a"
      },
      "source": [
        "from sklearn.tree import DecisionTreeClassifier\n",
        "decisionModel = DecisionTreeClassifier()\n",
        "classify(decisionModel, X, Y)"
      ],
      "execution_count": 190,
      "outputs": [
        {
          "output_type": "stream",
          "text": [
            "|------------|-----------------------|\n",
            "|  Accuracy  |       84.75%           |\n",
            "|  CV Score  |       79.61%          |\n",
            "|------------------------------------|\n",
            "\n",
            "|------------------------------------|\n",
            "|   Printing Classification Report   |\n",
            "|------------------------------------|\n",
            "\n",
            "\n",
            "              precision    recall  f1-score   support\n",
            "\n",
            "           0       0.93      0.89      0.91       347\n",
            "           1       0.44      0.57      0.50        53\n",
            "\n",
            "    accuracy                           0.85       400\n",
            "   macro avg       0.69      0.73      0.70       400\n",
            "weighted avg       0.87      0.85      0.86       400\n",
            "\n"
          ],
          "name": "stdout"
        }
      ]
    },
    {
      "cell_type": "markdown",
      "metadata": {
        "id": "DeRljTy4h0so"
      },
      "source": [
        "#### Model 3: Random Forest Classifier"
      ]
    },
    {
      "cell_type": "markdown",
      "metadata": {
        "id": "cQnVqyhRlztF"
      },
      "source": [
        "Random Forest Classifier is an ensemble model means this uses more than two models for prediction. RFC is a ensemble model of DT."
      ]
    },
    {
      "cell_type": "code",
      "metadata": {
        "colab": {
          "base_uri": "https://localhost:8080/"
        },
        "id": "z9POQs6TlE9n",
        "outputId": "2dd47e8d-024c-44ed-e4e9-85fcf1dd5aba"
      },
      "source": [
        "from sklearn.ensemble import RandomForestClassifier\n",
        "forestModel = RandomForestClassifier()\n",
        "classify(RandomForestClassifier(), X, Y)"
      ],
      "execution_count": 191,
      "outputs": [
        {
          "output_type": "stream",
          "text": [
            "|------------|-----------------------|\n",
            "|  Accuracy  |       91.25%           |\n",
            "|  CV Score  |       87.18%          |\n",
            "|------------------------------------|\n",
            "\n",
            "|------------------------------------|\n",
            "|   Printing Classification Report   |\n",
            "|------------------------------------|\n",
            "\n",
            "\n",
            "              precision    recall  f1-score   support\n",
            "\n",
            "           0       0.93      0.97      0.95       347\n",
            "           1       0.72      0.55      0.62        53\n",
            "\n",
            "    accuracy                           0.91       400\n",
            "   macro avg       0.83      0.76      0.79       400\n",
            "weighted avg       0.91      0.91      0.91       400\n",
            "\n"
          ],
          "name": "stdout"
        }
      ]
    },
    {
      "cell_type": "markdown",
      "metadata": {
        "id": "yAFWRHuah0RF"
      },
      "source": [
        "#### Model 4: ExtraTreesClassifier"
      ]
    },
    {
      "cell_type": "code",
      "metadata": {
        "colab": {
          "base_uri": "https://localhost:8080/"
        },
        "id": "cHWs43-tlFmm",
        "outputId": "e53e9b6c-3053-460c-aafb-2264e12686a6"
      },
      "source": [
        "from sklearn.ensemble import ExtraTreesClassifier\n",
        "extraTreeModel = ExtraTreesClassifier()\n",
        "classify(extraTreeModel, X, Y)"
      ],
      "execution_count": 192,
      "outputs": [
        {
          "output_type": "stream",
          "text": [
            "|------------|-----------------------|\n",
            "|  Accuracy  |       91.5%           |\n",
            "|  CV Score  |       87.24%          |\n",
            "|------------------------------------|\n",
            "\n",
            "|------------------------------------|\n",
            "|   Printing Classification Report   |\n",
            "|------------------------------------|\n",
            "\n",
            "\n",
            "              precision    recall  f1-score   support\n",
            "\n",
            "           0       0.93      0.97      0.95       347\n",
            "           1       0.76      0.53      0.62        53\n",
            "\n",
            "    accuracy                           0.92       400\n",
            "   macro avg       0.84      0.75      0.79       400\n",
            "weighted avg       0.91      0.92      0.91       400\n",
            "\n"
          ],
          "name": "stdout"
        }
      ]
    },
    {
      "cell_type": "markdown",
      "metadata": {
        "id": "RivtaSA6my0s"
      },
      "source": [
        "#### Model 5: XGBoost: XGBClassifier"
      ]
    },
    {
      "cell_type": "code",
      "metadata": {
        "colab": {
          "base_uri": "https://localhost:8080/"
        },
        "id": "NIbvlXDXmzkG",
        "outputId": "1f302fa2-c26d-4d12-8d1a-df7211f22b82"
      },
      "source": [
        "import xgboost as xgb\n",
        "xgbBoostModel = xgb.XGBClassifier()\n",
        "classify(xgbBoostModel, X, Y)"
      ],
      "execution_count": 193,
      "outputs": [
        {
          "output_type": "stream",
          "text": [
            "|------------|-----------------------|\n",
            "|  Accuracy  |       88.25%           |\n",
            "|  CV Score  |       86.18%          |\n",
            "|------------------------------------|\n",
            "\n",
            "|------------------------------------|\n",
            "|   Printing Classification Report   |\n",
            "|------------------------------------|\n",
            "\n",
            "\n",
            "              precision    recall  f1-score   support\n",
            "\n",
            "           0       0.92      0.95      0.93       347\n",
            "           1       0.57      0.43      0.49        53\n",
            "\n",
            "    accuracy                           0.88       400\n",
            "   macro avg       0.75      0.69      0.71       400\n",
            "weighted avg       0.87      0.88      0.88       400\n",
            "\n"
          ],
          "name": "stdout"
        }
      ]
    },
    {
      "cell_type": "markdown",
      "metadata": {
        "id": "0rcQNdY5n2ZN"
      },
      "source": [
        "#### Model 6: LGBMClassifier"
      ]
    },
    {
      "cell_type": "code",
      "metadata": {
        "colab": {
          "base_uri": "https://localhost:8080/"
        },
        "id": "B_kTMrtLnHzx",
        "outputId": "7a7fcb7d-abc8-4c8f-9315-d1760fb86a55"
      },
      "source": [
        "import lightgbm\n",
        "lightgbmModel = lightgbm.LGBMClassifier()\n",
        "classify(lightgbmModel, X, Y)"
      ],
      "execution_count": 194,
      "outputs": [
        {
          "output_type": "stream",
          "text": [
            "|------------|-----------------------|\n",
            "|  Accuracy  |       92.0%           |\n",
            "|  CV Score  |       86.74%          |\n",
            "|------------------------------------|\n",
            "\n",
            "|------------------------------------|\n",
            "|   Printing Classification Report   |\n",
            "|------------------------------------|\n",
            "\n",
            "\n",
            "              precision    recall  f1-score   support\n",
            "\n",
            "           0       0.94      0.97      0.95       347\n",
            "           1       0.76      0.58      0.66        53\n",
            "\n",
            "    accuracy                           0.92       400\n",
            "   macro avg       0.85      0.78      0.81       400\n",
            "weighted avg       0.91      0.92      0.92       400\n",
            "\n"
          ],
          "name": "stdout"
        }
      ]
    },
    {
      "cell_type": "markdown",
      "metadata": {
        "id": "VbtK49I7n9wE"
      },
      "source": [
        "#### Model 7: AdaBoost: AdaBoostClassifier"
      ]
    },
    {
      "cell_type": "code",
      "metadata": {
        "colab": {
          "base_uri": "https://localhost:8080/"
        },
        "id": "LxH2lEJLn93R",
        "outputId": "2e99be73-ad0e-4cd0-990f-4e0ee48d7afe"
      },
      "source": [
        "from sklearn.ensemble import AdaBoostClassifier\n",
        "adaBoostModel = AdaBoostClassifier()\n",
        "classify(adaBoostModel, X, Y)"
      ],
      "execution_count": 195,
      "outputs": [
        {
          "output_type": "stream",
          "text": [
            "|------------|-----------------------|\n",
            "|  Accuracy  |       88.75%           |\n",
            "|  CV Score  |       85.8%          |\n",
            "|------------------------------------|\n",
            "\n",
            "|------------------------------------|\n",
            "|   Printing Classification Report   |\n",
            "|------------------------------------|\n",
            "\n",
            "\n",
            "              precision    recall  f1-score   support\n",
            "\n",
            "           0       0.92      0.95      0.94       347\n",
            "           1       0.59      0.49      0.54        53\n",
            "\n",
            "    accuracy                           0.89       400\n",
            "   macro avg       0.76      0.72      0.74       400\n",
            "weighted avg       0.88      0.89      0.88       400\n",
            "\n"
          ],
          "name": "stdout"
        }
      ]
    },
    {
      "cell_type": "markdown",
      "metadata": {
        "id": "sWM_sL9FoQr8"
      },
      "source": [
        "#### Model 8: Gradient Boosting: GradientBoostingClassifier"
      ]
    },
    {
      "cell_type": "code",
      "metadata": {
        "colab": {
          "base_uri": "https://localhost:8080/"
        },
        "id": "9gYQdZIsoQzq",
        "outputId": "0a9e759b-4efc-4d07-a450-5c90f7b47704"
      },
      "source": [
        "from sklearn.ensemble import GradientBoostingClassifier\n",
        "gradientBoostModel = GradientBoostingClassifier()\n",
        "classify(gradientBoostModel, X, Y)"
      ],
      "execution_count": 196,
      "outputs": [
        {
          "output_type": "stream",
          "text": [
            "|------------|-----------------------|\n",
            "|  Accuracy  |       89.0%           |\n",
            "|  CV Score  |       86.68%          |\n",
            "|------------------------------------|\n",
            "\n",
            "|------------------------------------|\n",
            "|   Printing Classification Report   |\n",
            "|------------------------------------|\n",
            "\n",
            "\n",
            "              precision    recall  f1-score   support\n",
            "\n",
            "           0       0.92      0.96      0.94       347\n",
            "           1       0.62      0.45      0.52        53\n",
            "\n",
            "    accuracy                           0.89       400\n",
            "   macro avg       0.77      0.70      0.73       400\n",
            "weighted avg       0.88      0.89      0.88       400\n",
            "\n"
          ],
          "name": "stdout"
        }
      ]
    },
    {
      "cell_type": "markdown",
      "metadata": {
        "id": "x3JblR-Vqdi0"
      },
      "source": [
        "By comparing all the classification models,\n",
        "- Highest level of accuracy:\n",
        "- Better f1-score for predicting Good Quality wines: \n",
        "\n",
        "So, winner model: "
      ]
    },
    {
      "cell_type": "markdown",
      "metadata": {
        "id": "5kyb_bgJi1yV"
      },
      "source": [
        "## Building a Predictive System"
      ]
    },
    {
      "cell_type": "code",
      "metadata": {
        "colab": {
          "base_uri": "https://localhost:8080/"
        },
        "id": "S_8ioi_oilX5",
        "outputId": "715d2592-c7ec-43c3-a29d-bae441452bdd"
      },
      "source": [
        "# given all the values, our model will find its quality\n",
        "input_data = [7.5,0.52,0.16,1.9,0.085,12,35,0.9968,3.38,0.62,9.5]\n",
        "input_data_as_numpy_array = np.asarray(input_data) # converting the input data to a numpy array for data processing\n",
        "input_data_reshapped = input_data_as_numpy_array.reshape(1, -1) # reshape the data as we are predicting the label for only one instance\n",
        "\n",
        "prediction = extraTreeModel.predict(input_data_reshapped)\n",
        "\n",
        "if prediction[0] == '1':\n",
        "  print(\"Good Quality Wine\")\n",
        "else:\n",
        "  print(\"Bad Quality Wine\")\n"
      ],
      "execution_count": 201,
      "outputs": [
        {
          "output_type": "stream",
          "text": [
            "[0]\n",
            "Bad Quality Wine\n"
          ],
          "name": "stdout"
        }
      ]
    },
    {
      "cell_type": "markdown",
      "metadata": {
        "id": "ot9G-2-E1G0N"
      },
      "source": [
        "## Feature Importance"
      ]
    },
    {
      "cell_type": "code",
      "metadata": {
        "id": "Wn44N6PAklIY",
        "colab": {
          "base_uri": "https://localhost:8080/",
          "height": 609
        },
        "outputId": "cc7b0197-b8b8-4c46-f2ad-899635f2c94a"
      },
      "source": [
        "feat_importances = pd.Series(extraTreeModel.feature_importances_, index=X_features.columns)\n",
        "feat_importances.nlargest(25).plot(kind='barh',figsize=(10,10))"
      ],
      "execution_count": 198,
      "outputs": [
        {
          "output_type": "execute_result",
          "data": {
            "text/plain": [
              "<matplotlib.axes._subplots.AxesSubplot at 0x7f6b9eecebd0>"
            ]
          },
          "metadata": {
            "tags": []
          },
          "execution_count": 198
        },
        {
          "output_type": "display_data",
          "data": {
            "image/png": "[encoded data removed]",
            "text/plain": [
              "<Figure size 720x720 with 1 Axes>"
            ]
          },
          "metadata": {
            "tags": [],
            "needs_background": "light"
          }
        }
      ]
    },
    {
      "cell_type": "code",
      "metadata": {
        "colab": {
          "base_uri": "https://localhost:8080/",
          "height": 297
        },
        "id": "RuyYroy41pmR",
        "outputId": "8997ff46-ddf9-4cf6-e8d8-2c129a85e7b0"
      },
      "source": [
        "good_quality_df = wineDF.loc[wineDF.quality >= 7]\n",
        "good_quality_df.describe()"
      ],
      "execution_count": 199,
      "outputs": [
        {
          "output_type": "execute_result",
          "data": {
            "text/html": [
              "<div>\n",
              "<style scoped>\n",
              "    .dataframe tbody tr th:only-of-type {\n",
              "        vertical-align: middle;\n",
              "    }\n",
              "\n",
              "    .dataframe tbody tr th {\n",
              "        vertical-align: top;\n",
              "    }\n",
              "\n",
              "    .dataframe thead th {\n",
              "        text-align: right;\n",
              "    }\n",
              "</style>\n",
              "<table border=\"1\" class=\"dataframe\">\n",
              "  <thead>\n",
              "    <tr style=\"text-align: right;\">\n",
              "      <th></th>\n",
              "      <th>fixed acidity</th>\n",
              "      <th>volatile acidity</th>\n",
              "      <th>citric acid</th>\n",
              "      <th>residual sugar</th>\n",
              "      <th>chlorides</th>\n",
              "      <th>free sulfur dioxide</th>\n",
              "      <th>total sulfur dioxide</th>\n",
              "      <th>density</th>\n",
              "      <th>pH</th>\n",
              "      <th>sulphates</th>\n",
              "      <th>alcohol</th>\n",
              "      <th>quality</th>\n",
              "    </tr>\n",
              "  </thead>\n",
              "  <tbody>\n",
              "    <tr>\n",
              "      <th>count</th>\n",
              "      <td>217.000000</td>\n",
              "      <td>217.000000</td>\n",
              "      <td>217.000000</td>\n",
              "      <td>217.000000</td>\n",
              "      <td>217.000000</td>\n",
              "      <td>217.000000</td>\n",
              "      <td>217.000000</td>\n",
              "      <td>217.000000</td>\n",
              "      <td>217.000000</td>\n",
              "      <td>217.000000</td>\n",
              "      <td>217.000000</td>\n",
              "      <td>217.000000</td>\n",
              "    </tr>\n",
              "    <tr>\n",
              "      <th>mean</th>\n",
              "      <td>8.847005</td>\n",
              "      <td>0.405530</td>\n",
              "      <td>0.376498</td>\n",
              "      <td>2.708756</td>\n",
              "      <td>0.075912</td>\n",
              "      <td>13.981567</td>\n",
              "      <td>34.889401</td>\n",
              "      <td>0.996030</td>\n",
              "      <td>3.288802</td>\n",
              "      <td>0.743456</td>\n",
              "      <td>11.518049</td>\n",
              "      <td>7.082949</td>\n",
              "    </tr>\n",
              "    <tr>\n",
              "      <th>std</th>\n",
              "      <td>1.999977</td>\n",
              "      <td>0.144963</td>\n",
              "      <td>0.194438</td>\n",
              "      <td>1.363026</td>\n",
              "      <td>0.028480</td>\n",
              "      <td>10.234615</td>\n",
              "      <td>32.572238</td>\n",
              "      <td>0.002201</td>\n",
              "      <td>0.154478</td>\n",
              "      <td>0.134038</td>\n",
              "      <td>0.998153</td>\n",
              "      <td>0.276443</td>\n",
              "    </tr>\n",
              "    <tr>\n",
              "      <th>min</th>\n",
              "      <td>4.900000</td>\n",
              "      <td>0.120000</td>\n",
              "      <td>0.000000</td>\n",
              "      <td>1.200000</td>\n",
              "      <td>0.012000</td>\n",
              "      <td>3.000000</td>\n",
              "      <td>7.000000</td>\n",
              "      <td>0.990640</td>\n",
              "      <td>2.880000</td>\n",
              "      <td>0.390000</td>\n",
              "      <td>9.200000</td>\n",
              "      <td>7.000000</td>\n",
              "    </tr>\n",
              "    <tr>\n",
              "      <th>25%</th>\n",
              "      <td>7.400000</td>\n",
              "      <td>0.300000</td>\n",
              "      <td>0.300000</td>\n",
              "      <td>2.000000</td>\n",
              "      <td>0.062000</td>\n",
              "      <td>6.000000</td>\n",
              "      <td>17.000000</td>\n",
              "      <td>0.994700</td>\n",
              "      <td>3.200000</td>\n",
              "      <td>0.650000</td>\n",
              "      <td>10.800000</td>\n",
              "      <td>7.000000</td>\n",
              "    </tr>\n",
              "    <tr>\n",
              "      <th>50%</th>\n",
              "      <td>8.700000</td>\n",
              "      <td>0.370000</td>\n",
              "      <td>0.400000</td>\n",
              "      <td>2.300000</td>\n",
              "      <td>0.073000</td>\n",
              "      <td>11.000000</td>\n",
              "      <td>27.000000</td>\n",
              "      <td>0.995720</td>\n",
              "      <td>3.270000</td>\n",
              "      <td>0.740000</td>\n",
              "      <td>11.600000</td>\n",
              "      <td>7.000000</td>\n",
              "    </tr>\n",
              "    <tr>\n",
              "      <th>75%</th>\n",
              "      <td>10.100000</td>\n",
              "      <td>0.490000</td>\n",
              "      <td>0.490000</td>\n",
              "      <td>2.700000</td>\n",
              "      <td>0.085000</td>\n",
              "      <td>18.000000</td>\n",
              "      <td>43.000000</td>\n",
              "      <td>0.997350</td>\n",
              "      <td>3.380000</td>\n",
              "      <td>0.820000</td>\n",
              "      <td>12.200000</td>\n",
              "      <td>7.000000</td>\n",
              "    </tr>\n",
              "    <tr>\n",
              "      <th>max</th>\n",
              "      <td>15.600000</td>\n",
              "      <td>0.915000</td>\n",
              "      <td>0.760000</td>\n",
              "      <td>8.900000</td>\n",
              "      <td>0.358000</td>\n",
              "      <td>54.000000</td>\n",
              "      <td>289.000000</td>\n",
              "      <td>1.003200</td>\n",
              "      <td>3.780000</td>\n",
              "      <td>1.360000</td>\n",
              "      <td>14.000000</td>\n",
              "      <td>8.000000</td>\n",
              "    </tr>\n",
              "  </tbody>\n",
              "</table>\n",
              "</div>"
            ],
            "text/plain": [
              "       fixed acidity  volatile acidity  ...     alcohol     quality\n",
              "count     217.000000        217.000000  ...  217.000000  217.000000\n",
              "mean        8.847005          0.405530  ...   11.518049    7.082949\n",
              "std         1.999977          0.144963  ...    0.998153    0.276443\n",
              "min         4.900000          0.120000  ...    9.200000    7.000000\n",
              "25%         7.400000          0.300000  ...   10.800000    7.000000\n",
              "50%         8.700000          0.370000  ...   11.600000    7.000000\n",
              "75%        10.100000          0.490000  ...   12.200000    7.000000\n",
              "max        15.600000          0.915000  ...   14.000000    8.000000\n",
              "\n",
              "[8 rows x 12 columns]"
            ]
          },
          "metadata": {
            "tags": []
          },
          "execution_count": 199
        }
      ]
    },
    {
      "cell_type": "code",
      "metadata": {
        "colab": {
          "base_uri": "https://localhost:8080/",
          "height": 297
        },
        "id": "JeQTYHTc2jFQ",
        "outputId": "7512d6df-5417-4683-e576-e66d816e4a9a"
      },
      "source": [
        "bad_quality_df = wineDF.loc[wineDF.quality <= 6]\n",
        "bad_quality_df.describe()"
      ],
      "execution_count": 200,
      "outputs": [
        {
          "output_type": "execute_result",
          "data": {
            "text/html": [
              "<div>\n",
              "<style scoped>\n",
              "    .dataframe tbody tr th:only-of-type {\n",
              "        vertical-align: middle;\n",
              "    }\n",
              "\n",
              "    .dataframe tbody tr th {\n",
              "        vertical-align: top;\n",
              "    }\n",
              "\n",
              "    .dataframe thead th {\n",
              "        text-align: right;\n",
              "    }\n",
              "</style>\n",
              "<table border=\"1\" class=\"dataframe\">\n",
              "  <thead>\n",
              "    <tr style=\"text-align: right;\">\n",
              "      <th></th>\n",
              "      <th>fixed acidity</th>\n",
              "      <th>volatile acidity</th>\n",
              "      <th>citric acid</th>\n",
              "      <th>residual sugar</th>\n",
              "      <th>chlorides</th>\n",
              "      <th>free sulfur dioxide</th>\n",
              "      <th>total sulfur dioxide</th>\n",
              "      <th>density</th>\n",
              "      <th>pH</th>\n",
              "      <th>sulphates</th>\n",
              "      <th>alcohol</th>\n",
              "      <th>quality</th>\n",
              "    </tr>\n",
              "  </thead>\n",
              "  <tbody>\n",
              "    <tr>\n",
              "      <th>count</th>\n",
              "      <td>1382.000000</td>\n",
              "      <td>1382.000000</td>\n",
              "      <td>1382.000000</td>\n",
              "      <td>1382.000000</td>\n",
              "      <td>1382.000000</td>\n",
              "      <td>1382.000000</td>\n",
              "      <td>1382.000000</td>\n",
              "      <td>1382.000000</td>\n",
              "      <td>1382.000000</td>\n",
              "      <td>1382.000000</td>\n",
              "      <td>1382.000000</td>\n",
              "      <td>1382.000000</td>\n",
              "    </tr>\n",
              "    <tr>\n",
              "      <th>mean</th>\n",
              "      <td>8.236831</td>\n",
              "      <td>0.547022</td>\n",
              "      <td>0.254407</td>\n",
              "      <td>2.512120</td>\n",
              "      <td>0.089281</td>\n",
              "      <td>16.172214</td>\n",
              "      <td>48.285818</td>\n",
              "      <td>0.996859</td>\n",
              "      <td>3.314616</td>\n",
              "      <td>0.644754</td>\n",
              "      <td>10.251037</td>\n",
              "      <td>5.408828</td>\n",
              "    </tr>\n",
              "    <tr>\n",
              "      <th>std</th>\n",
              "      <td>1.682726</td>\n",
              "      <td>0.176337</td>\n",
              "      <td>0.189665</td>\n",
              "      <td>1.415778</td>\n",
              "      <td>0.049113</td>\n",
              "      <td>10.467685</td>\n",
              "      <td>32.585604</td>\n",
              "      <td>0.001808</td>\n",
              "      <td>0.154135</td>\n",
              "      <td>0.170629</td>\n",
              "      <td>0.969664</td>\n",
              "      <td>0.601719</td>\n",
              "    </tr>\n",
              "    <tr>\n",
              "      <th>min</th>\n",
              "      <td>4.600000</td>\n",
              "      <td>0.160000</td>\n",
              "      <td>0.000000</td>\n",
              "      <td>0.900000</td>\n",
              "      <td>0.034000</td>\n",
              "      <td>1.000000</td>\n",
              "      <td>6.000000</td>\n",
              "      <td>0.990070</td>\n",
              "      <td>2.740000</td>\n",
              "      <td>0.330000</td>\n",
              "      <td>8.400000</td>\n",
              "      <td>3.000000</td>\n",
              "    </tr>\n",
              "    <tr>\n",
              "      <th>25%</th>\n",
              "      <td>7.100000</td>\n",
              "      <td>0.420000</td>\n",
              "      <td>0.082500</td>\n",
              "      <td>1.900000</td>\n",
              "      <td>0.071000</td>\n",
              "      <td>8.000000</td>\n",
              "      <td>23.000000</td>\n",
              "      <td>0.995785</td>\n",
              "      <td>3.210000</td>\n",
              "      <td>0.540000</td>\n",
              "      <td>9.500000</td>\n",
              "      <td>5.000000</td>\n",
              "    </tr>\n",
              "    <tr>\n",
              "      <th>50%</th>\n",
              "      <td>7.800000</td>\n",
              "      <td>0.540000</td>\n",
              "      <td>0.240000</td>\n",
              "      <td>2.200000</td>\n",
              "      <td>0.080000</td>\n",
              "      <td>14.000000</td>\n",
              "      <td>39.500000</td>\n",
              "      <td>0.996800</td>\n",
              "      <td>3.310000</td>\n",
              "      <td>0.600000</td>\n",
              "      <td>10.000000</td>\n",
              "      <td>5.000000</td>\n",
              "    </tr>\n",
              "    <tr>\n",
              "      <th>75%</th>\n",
              "      <td>9.100000</td>\n",
              "      <td>0.650000</td>\n",
              "      <td>0.400000</td>\n",
              "      <td>2.600000</td>\n",
              "      <td>0.091000</td>\n",
              "      <td>22.000000</td>\n",
              "      <td>65.000000</td>\n",
              "      <td>0.997900</td>\n",
              "      <td>3.410000</td>\n",
              "      <td>0.700000</td>\n",
              "      <td>10.900000</td>\n",
              "      <td>6.000000</td>\n",
              "    </tr>\n",
              "    <tr>\n",
              "      <th>max</th>\n",
              "      <td>15.900000</td>\n",
              "      <td>1.580000</td>\n",
              "      <td>1.000000</td>\n",
              "      <td>15.500000</td>\n",
              "      <td>0.611000</td>\n",
              "      <td>72.000000</td>\n",
              "      <td>165.000000</td>\n",
              "      <td>1.003690</td>\n",
              "      <td>4.010000</td>\n",
              "      <td>2.000000</td>\n",
              "      <td>14.900000</td>\n",
              "      <td>6.000000</td>\n",
              "    </tr>\n",
              "  </tbody>\n",
              "</table>\n",
              "</div>"
            ],
            "text/plain": [
              "       fixed acidity  volatile acidity  ...      alcohol      quality\n",
              "count    1382.000000       1382.000000  ...  1382.000000  1382.000000\n",
              "mean        8.236831          0.547022  ...    10.251037     5.408828\n",
              "std         1.682726          0.176337  ...     0.969664     0.601719\n",
              "min         4.600000          0.160000  ...     8.400000     3.000000\n",
              "25%         7.100000          0.420000  ...     9.500000     5.000000\n",
              "50%         7.800000          0.540000  ...    10.000000     5.000000\n",
              "75%         9.100000          0.650000  ...    10.900000     6.000000\n",
              "max        15.900000          1.580000  ...    14.900000     6.000000\n",
              "\n",
              "[8 rows x 12 columns]"
            ]
          },
          "metadata": {
            "tags": []
          },
          "execution_count": 200
        }
      ]
    },
    {
      "cell_type": "code",
      "metadata": {
        "id": "u3ksxamn634l"
      },
      "source": [
        ""
      ],
      "execution_count": 200,
      "outputs": []
    }
  ]
}